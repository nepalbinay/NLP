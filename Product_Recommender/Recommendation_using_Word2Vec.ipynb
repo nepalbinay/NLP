{
  "nbformat": 4,
  "nbformat_minor": 0,
  "metadata": {
    "colab": {
      "name": "Recommendation using Word2Vec.ipynb",
      "provenance": []
    },
    "kernelspec": {
      "name": "python3",
      "display_name": "Python 3"
    },
    "language_info": {
      "name": "python"
    }
  },
  "cells": [
    {
      "cell_type": "markdown",
      "metadata": {
        "id": "Hp322oMV5oBv"
      },
      "source": [
        "### Importing all required libraries"
      ]
    },
    {
      "cell_type": "code",
      "metadata": {
        "id": "ZCYdHDG_1P0L"
      },
      "source": [
        "import pandas as pd\n",
        "import numpy as np\n",
        "import random\n",
        "from tqdm import tqdm # Instantly make your loops show a smart progress meter - just wrap any iterable with tqdm(iterable)\n",
        "from gensim.models import Word2Vec\n",
        "import matplotlib.pyplot as plt\n",
        "\n",
        "import warnings\n",
        "warnings.filterwarnings('ignore') # not showing warnings while executing"
      ],
      "execution_count": 1,
      "outputs": []
    },
    {
      "cell_type": "markdown",
      "metadata": {
        "id": "Ysf405f66JnO"
      },
      "source": [
        "### Importing required dataset."
      ]
    },
    {
      "cell_type": "code",
      "metadata": {
        "colab": {
          "base_uri": "https://localhost:8080/",
          "height": 204
        },
        "id": "6UOKRIey2eM5",
        "outputId": "85f933d3-af26-43c5-df2c-338e9ad95f5d"
      },
      "source": [
        "url = 'https://archive.ics.uci.edu/ml/machine-learning-databases/00352/Online%20Retail.xlsx'\n",
        "df = pd.read_excel(url)\n",
        "df.head()"
      ],
      "execution_count": 2,
      "outputs": [
        {
          "output_type": "execute_result",
          "data": {
            "text/html": [
              "<div>\n",
              "<style scoped>\n",
              "    .dataframe tbody tr th:only-of-type {\n",
              "        vertical-align: middle;\n",
              "    }\n",
              "\n",
              "    .dataframe tbody tr th {\n",
              "        vertical-align: top;\n",
              "    }\n",
              "\n",
              "    .dataframe thead th {\n",
              "        text-align: right;\n",
              "    }\n",
              "</style>\n",
              "<table border=\"1\" class=\"dataframe\">\n",
              "  <thead>\n",
              "    <tr style=\"text-align: right;\">\n",
              "      <th></th>\n",
              "      <th>InvoiceNo</th>\n",
              "      <th>StockCode</th>\n",
              "      <th>Description</th>\n",
              "      <th>Quantity</th>\n",
              "      <th>InvoiceDate</th>\n",
              "      <th>UnitPrice</th>\n",
              "      <th>CustomerID</th>\n",
              "      <th>Country</th>\n",
              "    </tr>\n",
              "  </thead>\n",
              "  <tbody>\n",
              "    <tr>\n",
              "      <th>0</th>\n",
              "      <td>536365</td>\n",
              "      <td>85123A</td>\n",
              "      <td>WHITE HANGING HEART T-LIGHT HOLDER</td>\n",
              "      <td>6</td>\n",
              "      <td>2010-12-01 08:26:00</td>\n",
              "      <td>2.55</td>\n",
              "      <td>17850.0</td>\n",
              "      <td>United Kingdom</td>\n",
              "    </tr>\n",
              "    <tr>\n",
              "      <th>1</th>\n",
              "      <td>536365</td>\n",
              "      <td>71053</td>\n",
              "      <td>WHITE METAL LANTERN</td>\n",
              "      <td>6</td>\n",
              "      <td>2010-12-01 08:26:00</td>\n",
              "      <td>3.39</td>\n",
              "      <td>17850.0</td>\n",
              "      <td>United Kingdom</td>\n",
              "    </tr>\n",
              "    <tr>\n",
              "      <th>2</th>\n",
              "      <td>536365</td>\n",
              "      <td>84406B</td>\n",
              "      <td>CREAM CUPID HEARTS COAT HANGER</td>\n",
              "      <td>8</td>\n",
              "      <td>2010-12-01 08:26:00</td>\n",
              "      <td>2.75</td>\n",
              "      <td>17850.0</td>\n",
              "      <td>United Kingdom</td>\n",
              "    </tr>\n",
              "    <tr>\n",
              "      <th>3</th>\n",
              "      <td>536365</td>\n",
              "      <td>84029G</td>\n",
              "      <td>KNITTED UNION FLAG HOT WATER BOTTLE</td>\n",
              "      <td>6</td>\n",
              "      <td>2010-12-01 08:26:00</td>\n",
              "      <td>3.39</td>\n",
              "      <td>17850.0</td>\n",
              "      <td>United Kingdom</td>\n",
              "    </tr>\n",
              "    <tr>\n",
              "      <th>4</th>\n",
              "      <td>536365</td>\n",
              "      <td>84029E</td>\n",
              "      <td>RED WOOLLY HOTTIE WHITE HEART.</td>\n",
              "      <td>6</td>\n",
              "      <td>2010-12-01 08:26:00</td>\n",
              "      <td>3.39</td>\n",
              "      <td>17850.0</td>\n",
              "      <td>United Kingdom</td>\n",
              "    </tr>\n",
              "  </tbody>\n",
              "</table>\n",
              "</div>"
            ],
            "text/plain": [
              "  InvoiceNo StockCode  ... CustomerID         Country\n",
              "0    536365    85123A  ...    17850.0  United Kingdom\n",
              "1    536365     71053  ...    17850.0  United Kingdom\n",
              "2    536365    84406B  ...    17850.0  United Kingdom\n",
              "3    536365    84029G  ...    17850.0  United Kingdom\n",
              "4    536365    84029E  ...    17850.0  United Kingdom\n",
              "\n",
              "[5 rows x 8 columns]"
            ]
          },
          "metadata": {
            "tags": []
          },
          "execution_count": 2
        }
      ]
    },
    {
      "cell_type": "code",
      "metadata": {
        "colab": {
          "base_uri": "https://localhost:8080/"
        },
        "id": "MEK775Zb2s-P",
        "outputId": "f7ba6fb1-db8b-445e-aba5-2f5deb14a977"
      },
      "source": [
        "df.shape"
      ],
      "execution_count": 3,
      "outputs": [
        {
          "output_type": "execute_result",
          "data": {
            "text/plain": [
              "(541909, 8)"
            ]
          },
          "metadata": {
            "tags": []
          },
          "execution_count": 3
        }
      ]
    },
    {
      "cell_type": "code",
      "metadata": {
        "colab": {
          "base_uri": "https://localhost:8080/"
        },
        "id": "CKRsh3Pl5iVw",
        "outputId": "c60455b0-23fb-422f-ed8d-a8256e85dd07"
      },
      "source": [
        "df.isnull().sum()"
      ],
      "execution_count": 4,
      "outputs": [
        {
          "output_type": "execute_result",
          "data": {
            "text/plain": [
              "InvoiceNo           0\n",
              "StockCode           0\n",
              "Description      1454\n",
              "Quantity            0\n",
              "InvoiceDate         0\n",
              "UnitPrice           0\n",
              "CustomerID     135080\n",
              "Country             0\n",
              "dtype: int64"
            ]
          },
          "metadata": {
            "tags": []
          },
          "execution_count": 4
        }
      ]
    },
    {
      "cell_type": "markdown",
      "metadata": {
        "id": "s6jmqjkS516H"
      },
      "source": [
        "Since we have sufficient data to work with, we will drop the rows with null values."
      ]
    },
    {
      "cell_type": "code",
      "metadata": {
        "id": "rbP31Pss5zKl"
      },
      "source": [
        "df.dropna(axis=0,inplace=True)"
      ],
      "execution_count": 5,
      "outputs": []
    },
    {
      "cell_type": "markdown",
      "metadata": {
        "id": "9ZY95LgI7E7w"
      },
      "source": [
        "### Data Preparation"
      ]
    },
    {
      "cell_type": "markdown",
      "metadata": {
        "id": "7p17TCMd8zvd"
      },
      "source": [
        "In order to recommend products to the cutomers we need to know their shopping history. Therefore, we will parse the shopping history of each customer."
      ]
    },
    {
      "cell_type": "code",
      "metadata": {
        "colab": {
          "base_uri": "https://localhost:8080/"
        },
        "id": "G9ZFFcZW8_mm",
        "outputId": "19b0199f-a335-4b2a-e957-3de0ef6204e0"
      },
      "source": [
        "customers = df['CustomerID'].unique().tolist()\n",
        "len(customers)"
      ],
      "execution_count": 10,
      "outputs": [
        {
          "output_type": "execute_result",
          "data": {
            "text/plain": [
              "4372"
            ]
          },
          "metadata": {
            "tags": []
          },
          "execution_count": 10
        }
      ]
    },
    {
      "cell_type": "markdown",
      "metadata": {
        "id": "cUZ2n-5g9QtF"
      },
      "source": [
        "Since there are 4,372 distinct customers, we will have 4,372 sequences of purchases."
      ]
    },
    {
      "cell_type": "code",
      "metadata": {
        "id": "vQZIFncr7BUd"
      },
      "source": [
        "random.shuffle(customers) # shuffling customers in order to get unbiased data"
      ],
      "execution_count": 11,
      "outputs": []
    },
    {
      "cell_type": "markdown",
      "metadata": {
        "id": "cA--n3HSCt6l"
      },
      "source": [
        "Let's take 90% of data as train data and 10% as validation data"
      ]
    },
    {
      "cell_type": "code",
      "metadata": {
        "id": "dyYbHOt8Cs7F"
      },
      "source": [
        "customers_train = [customers[i] for i in range(round(0.9*len(customers)))]"
      ],
      "execution_count": 12,
      "outputs": []
    },
    {
      "cell_type": "markdown",
      "metadata": {
        "id": "er9gnejzDDsa"
      },
      "source": [
        "Now, splitting data into train an validation set"
      ]
    },
    {
      "cell_type": "code",
      "metadata": {
        "id": "GTPg0S1rGggy"
      },
      "source": [
        "df['StockCode'] = df['StockCode'].astype(str)"
      ],
      "execution_count": 14,
      "outputs": []
    },
    {
      "cell_type": "code",
      "metadata": {
        "id": "Eu3QXz7zDCYu"
      },
      "source": [
        "train_df = df[df['CustomerID'].isin(customers_train)]\n",
        "validation_df = df[~df['CustomerID'].isin(customers_train)]"
      ],
      "execution_count": 15,
      "outputs": []
    },
    {
      "cell_type": "markdown",
      "metadata": {
        "id": "oAvUXE-pF0L5"
      },
      "source": [
        "Creating sequence of purchases made by the customers in the dataset"
      ]
    },
    {
      "cell_type": "code",
      "metadata": {
        "id": "cfV0W1dcDYxf"
      },
      "source": [
        "purchases_train = []\n",
        "purchases_val = []\n",
        "\n",
        "def seq_maker(my_list, my_df, temp_list):\n",
        "  for i in tqdm(my_list):\n",
        "    temp = my_df[my_df['CustomerID']==i]['StockCode'].tolist()\n",
        "    temp_list.append(temp)\n",
        "    "
      ],
      "execution_count": 16,
      "outputs": []
    },
    {
      "cell_type": "code",
      "metadata": {
        "colab": {
          "base_uri": "https://localhost:8080/"
        },
        "id": "M9qxc5seG76e",
        "outputId": "25db4746-4a7d-4b02-9e48-de4e13fd1e00"
      },
      "source": [
        "seq_maker(customers_train,train_df,purchases_train)"
      ],
      "execution_count": 17,
      "outputs": [
        {
          "output_type": "stream",
          "text": [
            "100%|██████████| 3935/3935 [00:06<00:00, 590.18it/s]\n"
          ],
          "name": "stderr"
        }
      ]
    },
    {
      "cell_type": "code",
      "metadata": {
        "colab": {
          "base_uri": "https://localhost:8080/"
        },
        "id": "4QN7kNeVH_zr",
        "outputId": "8a2662b5-050a-4521-c7d1-4b6fb9a89aec"
      },
      "source": [
        "seq_maker(validation_df['CustomerID'].unique(),validation_df,purchases_val)"
      ],
      "execution_count": 21,
      "outputs": [
        {
          "output_type": "stream",
          "text": [
            "100%|██████████| 437/437 [00:00<00:00, 823.47it/s]\n"
          ],
          "name": "stderr"
        }
      ]
    },
    {
      "cell_type": "markdown",
      "metadata": {
        "id": "w0OMh-kQI5qz"
      },
      "source": [
        " ### Training Word2Vec Model"
      ]
    },
    {
      "cell_type": "code",
      "metadata": {
        "colab": {
          "base_uri": "https://localhost:8080/"
        },
        "id": "mTQvEAr7ItE2",
        "outputId": "88861e04-4b39-4c0c-cae1-33d8c4656d00"
      },
      "source": [
        "model = Word2Vec(window = 10, sg = 1, hs = 0,\n",
        "                 negative = 10, # for negative sampling\n",
        "                 alpha=0.03, min_alpha=0.0007,\n",
        "                 seed = 14)\n",
        "\n",
        "model.build_vocab(purchases_train, progress_per=200)\n",
        "\n",
        "model.train(purchases_train, total_examples = model.corpus_count, \n",
        "            epochs=10, report_delay=1)"
      ],
      "execution_count": 22,
      "outputs": [
        {
          "output_type": "execute_result",
          "data": {
            "text/plain": [
              "(3688188, 3724490)"
            ]
          },
          "metadata": {
            "tags": []
          },
          "execution_count": 22
        }
      ]
    },
    {
      "cell_type": "code",
      "metadata": {
        "id": "99VljxHzSUM3"
      },
      "source": [
        "model.init_sims(replace=True)"
      ],
      "execution_count": 23,
      "outputs": []
    },
    {
      "cell_type": "code",
      "metadata": {
        "colab": {
          "base_uri": "https://localhost:8080/"
        },
        "id": "kpNu2IZcSaCn",
        "outputId": "cc56bf68-9373-4412-fdf9-9d10ba162606"
      },
      "source": [
        "print(model)"
      ],
      "execution_count": 24,
      "outputs": [
        {
          "output_type": "stream",
          "text": [
            "Word2Vec(vocab=3174, size=100, alpha=0.03)\n"
          ],
          "name": "stdout"
        }
      ]
    },
    {
      "cell_type": "code",
      "metadata": {
        "colab": {
          "base_uri": "https://localhost:8080/"
        },
        "id": "RvpK4NISSfJV",
        "outputId": "98d405b9-c553-4003-a30b-9d3448fb1216"
      },
      "source": [
        "# extract all vectors\n",
        "X = model[model.wv.vocab]\n",
        "\n",
        "X.shape"
      ],
      "execution_count": 25,
      "outputs": [
        {
          "output_type": "execute_result",
          "data": {
            "text/plain": [
              "(3174, 100)"
            ]
          },
          "metadata": {
            "tags": []
          },
          "execution_count": 25
        }
      ]
    },
    {
      "cell_type": "code",
      "metadata": {
        "colab": {
          "base_uri": "https://localhost:8080/"
        },
        "id": "IwzVWR9-Swb0",
        "outputId": "b5084745-8b43-4286-d0b1-05b681dbdd9c"
      },
      "source": [
        "!pip install umap"
      ],
      "execution_count": 28,
      "outputs": [
        {
          "output_type": "stream",
          "text": [
            "Collecting umap\n",
            "  Downloading https://files.pythonhosted.org/packages/4b/46/08ab68936625400fe690684428d4db4764f49b406782cc133df1d0299d06/umap-0.1.1.tar.gz\n",
            "Building wheels for collected packages: umap\n",
            "  Building wheel for umap (setup.py) ... \u001b[?25l\u001b[?25hdone\n",
            "  Created wheel for umap: filename=umap-0.1.1-cp37-none-any.whl size=3568 sha256=05797d5197bfa14dc83a668cd87aa1569db4c5cc288346bb4f21561298fb31e8\n",
            "  Stored in directory: /root/.cache/pip/wheels/7b/29/33/b4d917dc95f69c0a060e2ab012d95e15db9ed4cc0b94ccac26\n",
            "Successfully built umap\n",
            "Installing collected packages: umap\n",
            "Successfully installed umap-0.1.1\n"
          ],
          "name": "stdout"
        }
      ]
    },
    {
      "cell_type": "markdown",
      "metadata": {
        "id": "9k5Wrgi9GsEW"
      },
      "source": [
        "### Visualize word2vec Embeddings"
      ]
    },
    {
      "cell_type": "markdown",
      "metadata": {
        "id": "zFRQ6FeHG8C4"
      },
      "source": [
        "Reducing the dimensions of product embeddings from 100 to 2 by using the UMAP algorithm."
      ]
    },
    {
      "cell_type": "code",
      "metadata": {
        "colab": {
          "base_uri": "https://localhost:8080/",
          "height": 231
        },
        "id": "kD3zYYCJShwE",
        "outputId": "99ebf2a2-4141-4917-891d-dd4ef6b287e8"
      },
      "source": [
        "import umap\n",
        "\n",
        "cluster_embedding = umap.UMAP(n_neighbors=30, min_dist=0.0,\n",
        "                              n_components=2, random_state=42).fit_transform(X)\n",
        "\n",
        "plt.figure(figsize=(10,9))\n",
        "plt.scatter(cluster_embedding[:, 0], cluster_embedding[:, 1], s=3, cmap='Spectral')"
      ],
      "execution_count": 29,
      "outputs": [
        {
          "output_type": "error",
          "ename": "AttributeError",
          "evalue": "ignored",
          "traceback": [
            "\u001b[0;31m---------------------------------------------------------------------------\u001b[0m",
            "\u001b[0;31mAttributeError\u001b[0m                            Traceback (most recent call last)",
            "\u001b[0;32m<ipython-input-29-5536d13e0931>\u001b[0m in \u001b[0;36m<module>\u001b[0;34m()\u001b[0m\n\u001b[1;32m      1\u001b[0m \u001b[0;32mimport\u001b[0m \u001b[0mumap\u001b[0m\u001b[0;34m\u001b[0m\u001b[0;34m\u001b[0m\u001b[0m\n\u001b[1;32m      2\u001b[0m \u001b[0;34m\u001b[0m\u001b[0m\n\u001b[0;32m----> 3\u001b[0;31m cluster_embedding = umap.UMAP(n_neighbors=30, min_dist=0.0,\n\u001b[0m\u001b[1;32m      4\u001b[0m                               n_components=2, random_state=42).fit_transform(X)\n\u001b[1;32m      5\u001b[0m \u001b[0;34m\u001b[0m\u001b[0m\n",
            "\u001b[0;31mAttributeError\u001b[0m: module 'umap' has no attribute 'UMAP'"
          ]
        }
      ]
    },
    {
      "cell_type": "markdown",
      "metadata": {
        "id": "I4t98-TYHNTJ"
      },
      "source": [
        "Creating a productID and product-description dictionary to easily map a product's description to its ID and vice versa."
      ]
    },
    {
      "cell_type": "code",
      "metadata": {
        "id": "6y0lCrAmSomW"
      },
      "source": [
        "products = train_df[[\"StockCode\", \"Description\"]]\n",
        "\n",
        "# remove duplicates\n",
        "products.drop_duplicates(inplace=True, subset='StockCode', keep=\"last\")\n",
        "\n",
        "# create product-ID and product-description dictionary\n",
        "products_dict = products.groupby('StockCode')['Description'].apply(list).to_dict()"
      ],
      "execution_count": 30,
      "outputs": []
    },
    {
      "cell_type": "code",
      "metadata": {
        "colab": {
          "base_uri": "https://localhost:8080/"
        },
        "id": "4V2EKnFmS8-s",
        "outputId": "6610edf3-bbda-4035-fc66-a62c4bc050b5"
      },
      "source": [
        "# test the dictionary\n",
        "products_dict['84029E']"
      ],
      "execution_count": 31,
      "outputs": [
        {
          "output_type": "execute_result",
          "data": {
            "text/plain": [
              "['RED WOOLLY HOTTIE WHITE HEART.']"
            ]
          },
          "metadata": {
            "tags": []
          },
          "execution_count": 31
        }
      ]
    },
    {
      "cell_type": "code",
      "metadata": {
        "id": "iiSo6iUNS_BF"
      },
      "source": [
        "def similar_products(v, n = 6):\n",
        "    \n",
        "    # extract most similar products for the input vector\n",
        "    ms = model.similar_by_vector(v, topn= n+1)[1:]\n",
        "    \n",
        "    # extract name and similarity score of the similar products\n",
        "    new_ms = []\n",
        "    for j in ms:\n",
        "        pair = (products_dict[j[0]][0], j[1])\n",
        "        new_ms.append(pair)\n",
        "        \n",
        "    return new_ms       "
      ],
      "execution_count": 32,
      "outputs": []
    },
    {
      "cell_type": "code",
      "metadata": {
        "colab": {
          "base_uri": "https://localhost:8080/"
        },
        "id": "bEVtDGVgTBgS",
        "outputId": "26295936-fdc4-4865-852d-355df4f9ddee"
      },
      "source": [
        "similar_products(model['90019A'])"
      ],
      "execution_count": 33,
      "outputs": [
        {
          "output_type": "execute_result",
          "data": {
            "text/plain": [
              "[('SILVER M.O.P ORBIT DROP EARRINGS', 0.7636992931365967),\n",
              " ('BLACK VINTAGE  CRYSTAL EARRINGS', 0.7490034699440002),\n",
              " ('PINK HEART OF GLASS BRACELET', 0.7489266395568848),\n",
              " ('PINK BOUDICCA LARGE BRACELET', 0.741625964641571),\n",
              " ('AMBER DROP EARRINGS W LONG BEADS', 0.7349154353141785),\n",
              " ('DROP DIAMANTE EARRINGS PURPLE', 0.72665935754776)]"
            ]
          },
          "metadata": {
            "tags": []
          },
          "execution_count": 33
        }
      ]
    },
    {
      "cell_type": "code",
      "metadata": {
        "id": "aM91Y57LTDgy"
      },
      "source": [
        "\n",
        "def aggregate_vectors(products):\n",
        "    product_vec = []\n",
        "    for i in products:\n",
        "        try:\n",
        "            product_vec.append(model[i])\n",
        "        except KeyError:\n",
        "            continue\n",
        "        \n",
        "    return np.mean(product_vec, axis=0)"
      ],
      "execution_count": 34,
      "outputs": []
    },
    {
      "cell_type": "code",
      "metadata": {
        "colab": {
          "base_uri": "https://localhost:8080/"
        },
        "id": "okFo1bVyTFz8",
        "outputId": "e14539fc-8254-4adc-96b2-47dce73afdeb"
      },
      "source": [
        "len(purchases_val[0])"
      ],
      "execution_count": 35,
      "outputs": [
        {
          "output_type": "execute_result",
          "data": {
            "text/plain": [
              "30"
            ]
          },
          "metadata": {
            "tags": []
          },
          "execution_count": 35
        }
      ]
    },
    {
      "cell_type": "code",
      "metadata": {
        "colab": {
          "base_uri": "https://localhost:8080/"
        },
        "id": "cFPDpkNmTKhS",
        "outputId": "234e693f-47f0-4383-c275-6b4c69aeef34"
      },
      "source": [
        "aggregate_vectors(purchases_val[0]).shape"
      ],
      "execution_count": 36,
      "outputs": [
        {
          "output_type": "execute_result",
          "data": {
            "text/plain": [
              "(100,)"
            ]
          },
          "metadata": {
            "tags": []
          },
          "execution_count": 36
        }
      ]
    },
    {
      "cell_type": "code",
      "metadata": {
        "colab": {
          "base_uri": "https://localhost:8080/"
        },
        "id": "ZPSmM0gRTMIe",
        "outputId": "292e9952-914f-45a8-b58c-f4863919d6a5"
      },
      "source": [
        "similar_products(aggregate_vectors(purchases_val[0]))"
      ],
      "execution_count": 37,
      "outputs": [
        {
          "output_type": "execute_result",
          "data": {
            "text/plain": [
              "[('JUMBO BAG APPLES', 0.8005504608154297),\n",
              " ('JUMBO BAG ALPHABET', 0.7930920124053955),\n",
              " ('JUMBO BAG PEARS', 0.7872057557106018),\n",
              " ('JUMBO BAG VINTAGE LEAF', 0.7867273092269897),\n",
              " ('LUNCH BAG ALPHABET DESIGN', 0.7723840475082397),\n",
              " ('JUMBO BAG DOLLY GIRL DESIGN', 0.7589294910430908)]"
            ]
          },
          "metadata": {
            "tags": []
          },
          "execution_count": 37
        }
      ]
    },
    {
      "cell_type": "code",
      "metadata": {
        "colab": {
          "base_uri": "https://localhost:8080/"
        },
        "id": "VdPriOwDTN0K",
        "outputId": "bd427ed6-daa6-4ea4-b0be-84b84d3b8b14"
      },
      "source": [
        "similar_products(aggregate_vectors(purchases_val[0][-10:]))"
      ],
      "execution_count": 38,
      "outputs": [
        {
          "output_type": "execute_result",
          "data": {
            "text/plain": [
              "[('JUMBO BAG VINTAGE DOILY ', 0.749992847442627),\n",
              " ('JUMBO BAG VINTAGE CHRISTMAS ', 0.7334388494491577),\n",
              " ('JUMBO BAG VINTAGE LEAF', 0.6987371444702148),\n",
              " ('VINTAGE DOILY JUMBO BAG RED ', 0.6882349252700806),\n",
              " ('JUMBO BAG PEARS', 0.6790704727172852),\n",
              " ('JINGLE BELL HEART DECORATION', 0.6738508939743042)]"
            ]
          },
          "metadata": {
            "tags": []
          },
          "execution_count": 38
        }
      ]
    },
    {
      "cell_type": "code",
      "metadata": {
        "id": "5cwODTXMTTes"
      },
      "source": [
        ""
      ],
      "execution_count": null,
      "outputs": []
    }
  ]
}